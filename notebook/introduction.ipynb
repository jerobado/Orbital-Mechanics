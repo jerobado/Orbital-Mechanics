{
 "cells": [
  {
   "cell_type": "markdown",
   "metadata": {},
   "source": [
    "# Orbital Mechanics Notebook\n",
    "\n",
    "Objective\n",
    "- learn orbital mechanics this decade\n",
    "- solve real world problem in orbital mechanics\n",
    "\n",
    "### What is Orbital Mechanics?\n",
    "- the study of motion of artifical satellites (rockets, spacecraft, etc.) orbiting on the influence of a central object\n",
    "\n",
    "**Orbital Elements** - parameters that describe the orbital motion of a satellite also known as the \"Keplerian\" elements named after the German astronomer Johannes Kepler\n",
    "\n",
    "1. semi-major axis, a\n",
    "2. eccentricity, e\n",
    "3. mean anomaly, T\n",
    "4. argument of perigee, w\n",
    "5. inclination, i\n",
    "6. right ascension of ascending node, o\n",
    "7. epoch, t\n",
    "\n",
    "### Definition\n",
    "**Epoch** - a snapshot of the orbital elements, of the orbit of a satellite, at a particular time.\n",
    "\n",
    "**Inclination** - is the angle (0-180 degrees) between the orbital plane and the equatorial plan.\n",
    "\n",
    "**Right Ascension of Ascending Node** - is an angle (0-360 degrees), measured at the center of the Earth, from the vernal equinox to the ascending node.\n",
    "\n",
    "_vernal equinox_ is the ascending node of the Sun's orbit\n",
    "\n",
    "**Argument of Perigee** - is the angle (0-360 degrees), measured at the center of the Earth, from the ascending node to perigee.\n",
    "\n",
    "**Eccentricity** - the satellite orbit is an ellipse. Eccentricity is the \"shape\" of the orbit. When eccentricity is zero (0), the orbit is circular, if its 1, the ellipse is very long.\n",
    "\n",
    "**Semi-major axis** - also known as mean motion is the distance from the center of an ellipse to one end. Mean motion is usually given in units of revolution per day. \n",
    "\n",
    "**Mean Anomaly** - an angle that marches uniformly in time from 0 - 360 degrees during one revolution. 0 degrees means the satellite is at perigee, 180 degrees means its at apogee.\n",
    "\n",
    "Sources:\n",
    "- [http://www.braeunig.us/space/orbmech.htm](http://www.braeunig.us/space/orbmech.htm)\n",
    "- [https://www.amsat.org/keplerian-elements-tutorial/](https://www.amsat.org/keplerian-elements-tutorial/)"
   ]
  },
  {
   "cell_type": "code",
   "execution_count": null,
   "metadata": {},
   "outputs": [],
   "source": []
  }
 ],
 "metadata": {
  "kernelspec": {
   "display_name": "Python 3",
   "language": "python",
   "name": "python3"
  },
  "language_info": {
   "codemirror_mode": {
    "name": "ipython",
    "version": 3
   },
   "file_extension": ".py",
   "mimetype": "text/x-python",
   "name": "python",
   "nbconvert_exporter": "python",
   "pygments_lexer": "ipython3",
   "version": "3.7.6"
  }
 },
 "nbformat": 4,
 "nbformat_minor": 2
}
