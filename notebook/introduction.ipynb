{
 "cells": [
  {
   "cell_type": "markdown",
   "metadata": {},
   "source": [
    "# Orbital Mechanics Notebook\n",
    "\n",
    "Objective\n",
    "- learn orbital mechanics this decade\n",
    "- solve real world problem in orbital mechanics\n",
    "\n",
    "### What is Orbital Mechanics?\n",
    "- the study of motion of artifical satellites (rockets, spaceraft, etc.) orbiting on the influence of a central object\n",
    "\n",
    "**Orbital Elements** - parameters that describe the orbital motion of a satellite\n",
    "1. semi-major axis, a\n",
    "2. eccentricity, e\n",
    "3. mean anomaly, T\n",
    "4. argument of perigee, w\n",
    "5. inclination, i\n",
    "6. right ascension of ascending node, o"
   ]
  },
  {
   "cell_type": "markdown",
   "metadata": {},
   "source": []
  }
 ],
 "metadata": {
  "kernelspec": {
   "display_name": "Python 3",
   "language": "python",
   "name": "python3"
  },
  "language_info": {
   "codemirror_mode": {
    "name": "ipython",
    "version": 3
   },
   "file_extension": ".py",
   "mimetype": "text/x-python",
   "name": "python",
   "nbconvert_exporter": "python",
   "pygments_lexer": "ipython3",
   "version": "3.7.6"
  }
 },
 "nbformat": 4,
 "nbformat_minor": 2
}
