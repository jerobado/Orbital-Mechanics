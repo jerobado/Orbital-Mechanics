{
 "cells": [
  {
   "cell_type": "code",
   "execution_count": 3,
   "metadata": {},
   "outputs": [
    {
     "name": "stdout",
     "output_type": "stream",
     "text": [
      "EarthSatellite 'ISS (ZARYA)' number=25544 epoch=2020-04-06T13:28:43Z\n"
     ]
    }
   ],
   "source": [
    "# Loading satellite two-line element sets using skyfield\n",
    "from skyfield.api import EarthSatellite, load\n",
    "\n",
    "# stations_url = 'http://celestrak.com/NORAD/elements/stations.txt'\n",
    "ts = load.timescale()\n",
    "line1 = '1 25544U 98067A   20097.56160575  .00012665  00000-0  24019-3 0  9992'\n",
    "line2 = '2 25544  51.6425 342.9069 0003957  86.9440 343.4129 15.48693126220918'\n",
    "\n",
    "satellite = EarthSatellite(line1, line2, 'ISS (ZARYA)', ts)\n",
    "print(satellite)"
   ]
  },
  {
   "cell_type": "code",
   "execution_count": 4,
   "metadata": {},
   "outputs": [
    {
     "name": "stdout",
     "output_type": "stream",
     "text": [
      "A.D. 2020-Apr-06 13:28:42.7368 UT\n"
     ]
    }
   ],
   "source": [
    "print(satellite.epoch.utc_jpl())"
   ]
  },
  {
   "cell_type": "code",
   "execution_count": 7,
   "metadata": {},
   "outputs": [
    {
     "name": "stdout",
     "output_type": "stream",
     "text": [
      "0.446 days away from epoch.\n"
     ]
    }
   ],
   "source": [
    "t = ts.utc(2020, 4, 7, 0, 11, 10)\n",
    "days = t - satellite.epoch\n",
    "print(f'{days:.3f} days away from epoch.')"
   ]
  },
  {
   "cell_type": "code",
   "execution_count": 8,
   "metadata": {},
   "outputs": [
    {
     "name": "stdout",
     "output_type": "stream",
     "text": [
      "[5102.35289036 1574.614543   4196.33321598]\n"
     ]
    }
   ],
   "source": [
    "# ISS at my location\n",
    "t = ts.utc(2020, 4, 7, 9, 32, 0)\n",
    "geocentric = satellite.at(t)\n",
    "print(geocentric.position.km)"
   ]
  },
  {
   "cell_type": "code",
   "execution_count": 10,
   "metadata": {},
   "outputs": [
    {
     "name": "stdout",
     "output_type": "stream",
     "text": [
      "Latitude: 38deg 26' 38.0\"\n",
      "Longtitude: 38deg 19' 06.7\"\n",
      "Elavation (m): 421453.9381670718\n"
     ]
    }
   ],
   "source": [
    "subpoint = geocentric.subpoint()\n",
    "print(f'Latitude: {subpoint.latitude}')\n",
    "print(f'Longtitude: {subpoint.longitude}')\n",
    "print(f'Elavation (m): {subpoint.elevation.m}')"
   ]
  },
  {
   "cell_type": "code",
   "execution_count": null,
   "metadata": {},
   "outputs": [],
   "source": []
  }
 ],
 "metadata": {
  "kernelspec": {
   "display_name": "Python 3",
   "language": "python",
   "name": "python3"
  },
  "language_info": {
   "codemirror_mode": {
    "name": "ipython",
    "version": 3
   },
   "file_extension": ".py",
   "mimetype": "text/x-python",
   "name": "python",
   "nbconvert_exporter": "python",
   "pygments_lexer": "ipython3",
   "version": "3.7.6"
  }
 },
 "nbformat": 4,
 "nbformat_minor": 2
}
